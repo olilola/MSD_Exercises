{
 "cells": [
  {
   "cell_type": "code",
   "execution_count": 1,
   "metadata": {},
   "outputs": [
    {
     "name": "stdout",
     "output_type": "stream",
     "text": [
      "      #tax_id    GeneID         Symbol       LocusTag     Synonyms dbXrefs  \\\n",
      "0           7   5692769       NEWENTRY              -            -       -   \n",
      "1           9   2827857       NEWENTRY              -            -       -   \n",
      "2          11  10823747       NEWENTRY              -            -       -   \n",
      "3          14   6951813       NEWENTRY              -            -       -   \n",
      "4          19   3758873       NEWENTRY              -            -       -   \n",
      "...       ...       ...            ...            ...          ...     ...   \n",
      "1874       24  77269341  N5094_RS09380  N5094_RS09380  N5094_09380       -   \n",
      "1875       24  77269342  N5094_RS09385  N5094_RS09385  N5094_09385       -   \n",
      "1876       24  77269343  N5094_RS09390  N5094_RS09390  N5094_09390       -   \n",
      "1877       24  77269344  N5094_RS09395  N5094_RS09395  N5094_09395       -   \n",
      "1878       24  77269345           recD  N5094_RS09400  N5094_09400       -   \n",
      "\n",
      "     chromosome map_location  \\\n",
      "0             -            -   \n",
      "1             -            -   \n",
      "2             -            -   \n",
      "3             -            -   \n",
      "4             -            -   \n",
      "...         ...          ...   \n",
      "1874          -            -   \n",
      "1875          -            -   \n",
      "1876          -            -   \n",
      "1877          -            -   \n",
      "1878          -            -   \n",
      "\n",
      "                                            description    type_of_gene  \\\n",
      "0     Record to support submission of GeneRIFs for a...           other   \n",
      "1     Record to support submission of GeneRIFs for a...           other   \n",
      "2     Record to support submission of GeneRIFs for a...           other   \n",
      "3     Record to support submission of GeneRIFs for a...           other   \n",
      "4     Record to support submission of GeneRIFs for a...           other   \n",
      "...                                                 ...             ...   \n",
      "1874                methyl-accepting chemotaxis protein  protein-coding   \n",
      "1875                             DUF3334 family protein  protein-coding   \n",
      "1876                                  3'-5' exonuclease  protein-coding   \n",
      "1877                               hypothetical protein  protein-coding   \n",
      "1878               exodeoxyribonuclease V subunit alpha  protein-coding   \n",
      "\n",
      "     Symbol_from_nomenclature_authority Full_name_from_nomenclature_authority  \\\n",
      "0                                     -                                     -   \n",
      "1                                     -                                     -   \n",
      "2                                     -                                     -   \n",
      "3                                     -                                     -   \n",
      "4                                     -                                     -   \n",
      "...                                 ...                                   ...   \n",
      "1874                                  -                                     -   \n",
      "1875                                  -                                     -   \n",
      "1876                                  -                                     -   \n",
      "1877                                  -                                     -   \n",
      "1878                                  -                                     -   \n",
      "\n",
      "     Nomenclature_status                    Other_designations  \\\n",
      "0                      -                                     -   \n",
      "1                      -                                     -   \n",
      "2                      -                                     -   \n",
      "3                      -                                     -   \n",
      "4                      -                                     -   \n",
      "...                  ...                                   ...   \n",
      "1874                   -   methyl-accepting chemotaxis protein   \n",
      "1875                   -                DUF3334 family protein   \n",
      "1876                   -                     3'-5' exonuclease   \n",
      "1877                   -                  hypothetical protein   \n",
      "1878                   -  exodeoxyribonuclease V subunit alpha   \n",
      "\n",
      "      Modification_date Feature_type  \n",
      "0              20230125            -  \n",
      "1              20230125            -  \n",
      "2              20230215            -  \n",
      "3              20230306            -  \n",
      "4              20230306            -  \n",
      "...                 ...          ...  \n",
      "1874           20230922            -  \n",
      "1875           20231120            -  \n",
      "1876           20230929            -  \n",
      "1877           20230411            -  \n",
      "1878           20230929            -  \n",
      "\n",
      "[1879 rows x 16 columns]\n"
     ]
    }
   ],
   "source": [
    "\n",
    "import pandas as pd\n",
    "\n",
    "file_path = \"C:/Users/aiskr/Repositories/FS24/Medical Device Development/MSD_Exercises/Exercise_1/gene_info/gene_info_short\"\n",
    "# Read the strange file into a Pandas DataFrame\n",
    "df = pd.read_csv(file_path, delimiter='\\t')\n",
    "\n",
    "# Display the DataFrame\n",
    "print(df)\n",
    "\n",
    "\n",
    "\n",
    "\n"
   ]
  },
  {
   "cell_type": "code",
   "execution_count": 12,
   "metadata": {},
   "outputs": [
    {
     "name": "stdout",
     "output_type": "stream",
     "text": [
      "Answer question 1: 1879\n"
     ]
    }
   ],
   "source": [
    "# Select the column you want to count records from\n",
    "selected_column = 'GeneID'  # Replace 'column_name' with the name of your column\n",
    "# Get the number of unique values in the column\n",
    "unique_values_count = len(df[selected_column].unique())\n",
    "\n",
    "# Print the total count of unique values\n",
    "print(\"Answer question 1: {}\".format(unique_values_count))"
   ]
  },
  {
   "cell_type": "code",
   "execution_count": 18,
   "metadata": {},
   "outputs": [
    {
     "name": "stdout",
     "output_type": "stream",
     "text": [
      "Answer question 3: \n",
      "['other' 'protein-coding' 'rRNA' 'pseudo' 'tRNA' 'ncRNA']\n",
      "Answer question 4: protein-coding\n"
     ]
    }
   ],
   "source": [
    "# Select the column you want to extract unique strings from\n",
    "selected_column = 'type_of_gene'  # Replace 'column_name' with the name of your column\n",
    "\n",
    "# Get the unique strings from the column\n",
    "unique_strings = df[selected_column].unique()\n",
    "\n",
    "#count repetitions\n",
    "# Count the occurrences of each unique string in the column\n",
    "string_counts = df[selected_column].value_counts()\n",
    "# Find the string that repeated the most\n",
    "most_repeated_string = string_counts.idxmax()\n",
    "\n",
    "# Print the array of unique strings\n",
    "print(\"Answer question 3: \")\n",
    "print(unique_strings)\n",
    "\n",
    "print(\"Answer question 4: {}\".format(most_repeated_string))\n"
   ]
  },
  {
   "cell_type": "code",
   "execution_count": 12,
   "metadata": {},
   "outputs": [
    {
     "name": "stdout",
     "output_type": "stream",
     "text": [
      "1874\n"
     ]
    }
   ],
   "source": [
    "selected_column = '#tax_id'  # Replace 'column_name' with the name of your column\n",
    "# Get the number of unique values in the column\n",
    "#[\"9606\"]\n",
    "count = (df[selected_column] == 9606).sum()\n",
    "\n",
    "print(\"Answer question 2: {}\".format(count))"
   ]
  },
  {
   "cell_type": "code",
   "execution_count": null,
   "metadata": {},
   "outputs": [],
   "source": []
  }
 ],
 "metadata": {
  "kernelspec": {
   "display_name": "Python 3",
   "language": "python",
   "name": "python3"
  },
  "language_info": {
   "codemirror_mode": {
    "name": "ipython",
    "version": 3
   },
   "file_extension": ".py",
   "mimetype": "text/x-python",
   "name": "python",
   "nbconvert_exporter": "python",
   "pygments_lexer": "ipython3",
   "version": "3.11.4"
  }
 },
 "nbformat": 4,
 "nbformat_minor": 2
}
